{
 "metadata": {
  "name": ""
 },
 "nbformat": 3,
 "nbformat_minor": 0,
 "worksheets": [
  {
   "cells": [
    {
     "cell_type": "heading",
     "level": 2,
     "metadata": {},
     "source": [
      "SPyCFIT"
     ]
    },
    {
     "cell_type": "markdown",
     "metadata": {},
     "source": [
      "Here is some testing stuff for the SpyCFIT code"
     ]
    },
    {
     "cell_type": "code",
     "collapsed": false,
     "input": [
      "filename  = '/Users/emma/spycfit/salt2_101013_v1.dat'\n",
      "f = open(filename, 'r')\n",
      "lines = f.readlines()\n",
      "lines = [x for x in lines if not x.startswith('#')]\n",
      "f.close()"
     ],
     "language": "python",
     "metadata": {},
     "outputs": [],
     "prompt_number": 4
    },
    {
     "cell_type": "code",
     "collapsed": false,
     "input": [
      "linebyline = [ll.split() for ll in lines]  #splits up each line into array"
     ],
     "language": "python",
     "metadata": {},
     "outputs": [],
     "prompt_number": 5
    },
    {
     "cell_type": "code",
     "collapsed": false,
     "input": [
      "linebyline[0]  #for example"
     ],
     "language": "python",
     "metadata": {},
     "outputs": [
      {
       "metadata": {},
       "output_type": "pyout",
       "prompt_number": 6,
       "text": [
        "['LSQ11bk',\n",
        " '0.04',\n",
        " '0.001',\n",
        " '2455913.06724',\n",
        " '0.171873744344',\n",
        " '16.8959321233',\n",
        " '0.0200055106337',\n",
        " '0.00314390068174',\n",
        " '5.76698481138e-05',\n",
        " '1.12472441541',\n",
        " '0.0697344679573',\n",
        " '-0.129378995016',\n",
        " '0.0223517570078']"
       ]
      }
     ],
     "prompt_number": 6
    },
    {
     "cell_type": "code",
     "collapsed": false,
     "input": [
      "class Supernova(object):\n",
      "\t\n",
      "\tdef __init__(self, arr,lcfitter):\n",
      "\t\n",
      "\t\tself.name=arr[0]\n",
      "\t\tself.z = float(arr[1])\n",
      "\t\tself.z_err = float(arr[2])\n",
      "\t\tself.maxdate = float(arr[3])\n",
      "\t\tself.maxdate_err = float(arr[4])\n",
      "\t\tself.bmax = float(arr[5])\n",
      "\t\tself.bmax_err = float(arr[6])\n",
      "\t\tself.type = lcfitter\n",
      "\t\t\n",
      "\t\tif self.type == 'salt2':\n",
      "\t\t\n",
      "\t\t\tself.colour = float(arr[11])\n",
      "\t\t\tself.colour_err = float(arr[12])\n",
      "\t\t\tself.x0 = float(arr[7])\n",
      "\t\t\tself.x0_err = float(arr[8])\n",
      "\t\t\tself.x1 = float(arr[9])\n",
      "\t\t\tself.x1_err = float(arr[10])\n",
      "\t\t\t\n",
      "\t\telif self.type == 'sifto':\n",
      "\t\t\n",
      "\t \t\tself.fitter = 'sifto'\n",
      "\t \t\tself.colour = float('nan')\n",
      "\t \t\tself.colour_err = float('nan')\n",
      "\t \t\tself.stretch = float('nan')\n",
      "\t \t\tself.stretch_err = float('nan')\n",
      "\t\t\t\n",
      "\t\telse:\n",
      "\t\t\t\n",
      "\t\t\traise\n",
      "\t\t\n",
      "\t\n",
      "\t\t\n",
      "\tdef integrand(self, omega_m, omega_l):\n",
      "\t\n",
      "\t\treturn  1.0/(np.sqrt((1.+self.z)**2 * (1+ omega_m) - self.z*(2.+self.z)*omega_l))\n",
      "\t\t\n",
      "\t\n",
      "\t__doc__ = \"Supernova Class\"\n"
     ],
     "language": "python",
     "metadata": {},
     "outputs": [],
     "prompt_number": 7
    },
    {
     "cell_type": "code",
     "collapsed": false,
     "input": [
      "sne = [Supernova(lll, 'salt2') for lll in linebyline]"
     ],
     "language": "python",
     "metadata": {},
     "outputs": [],
     "prompt_number": 8
    },
    {
     "cell_type": "code",
     "collapsed": false,
     "input": [
      "sne "
     ],
     "language": "python",
     "metadata": {},
     "outputs": [
      {
       "metadata": {},
       "output_type": "pyout",
       "prompt_number": 9,
       "text": [
        "[<__main__.Supernova at 0x1094173d0>,\n",
        " <__main__.Supernova at 0x109417510>,\n",
        " <__main__.Supernova at 0x1094171d0>,\n",
        " <__main__.Supernova at 0x109417310>,\n",
        " <__main__.Supernova at 0x1094a9f10>,\n",
        " <__main__.Supernova at 0x1094a97d0>,\n",
        " <__main__.Supernova at 0x1094a9650>,\n",
        " <__main__.Supernova at 0x1094a9810>,\n",
        " <__main__.Supernova at 0x1094a99d0>,\n",
        " <__main__.Supernova at 0x10a6ce1d0>,\n",
        " <__main__.Supernova at 0x10a6ce250>]"
       ]
      }
     ],
     "prompt_number": 9
    },
    {
     "cell_type": "markdown",
     "metadata": {},
     "source": [
      "We have made a list of instances of the class Supernova.  So we can then call things in a variety of ways"
     ]
    },
    {
     "cell_type": "code",
     "collapsed": false,
     "input": [
      "sne[0].name"
     ],
     "language": "python",
     "metadata": {},
     "outputs": [
      {
       "metadata": {},
       "output_type": "pyout",
       "prompt_number": 10,
       "text": [
        "'LSQ11bk'"
       ]
      }
     ],
     "prompt_number": 10
    },
    {
     "cell_type": "code",
     "collapsed": false,
     "input": [
      "sne[2].z"
     ],
     "language": "python",
     "metadata": {},
     "outputs": [
      {
       "metadata": {},
       "output_type": "pyout",
       "prompt_number": 11,
       "text": [
        "0.033"
       ]
      }
     ],
     "prompt_number": 11
    },
    {
     "cell_type": "code",
     "collapsed": false,
     "input": [
      "import numpy as np\n",
      "[(s.name,s.integrand(0.25,0.75)) for s in sne]"
     ],
     "language": "python",
     "metadata": {},
     "outputs": [
      {
       "metadata": {},
       "output_type": "pyout",
       "prompt_number": 12,
       "text": [
        "[('LSQ11bk', 0.88017802520754762),\n",
        " ('LSQ11ot', 0.88479483521364954),\n",
        " ('LSQ11pn', 0.88266221346422424),\n",
        " ('LSQ12agq', 0.87239909782520098),\n",
        " ('LSQ12aor', 0.86151708883903022),\n",
        " ('LSQ12bld', 0.8695816557632331),\n",
        " ('LSQ12blp', 0.86817528018288859),\n",
        " ('LSQ12btn', 0.87663666063783552),\n",
        " ('LSQ12ca', 0.8573314033015248),\n",
        " ('LSQ12cda', 0.84590321062969032),\n",
        " ('LSQ12cdl', 0.85420241897452931)]"
       ]
      }
     ],
     "prompt_number": 12
    },
    {
     "cell_type": "markdown",
     "metadata": {},
     "source": [
      "Now make a parameter file for the minimisation.  This will have to read in from argsparse in the main code"
     ]
    },
    {
     "cell_type": "code",
     "collapsed": false,
     "input": [
      "from lmfit import minimize, Parameters, report_fit"
     ],
     "language": "python",
     "metadata": {},
     "outputs": [],
     "prompt_number": 13
    },
    {
     "cell_type": "code",
     "collapsed": false,
     "input": [
      "params = Parameters()"
     ],
     "language": "python",
     "metadata": {},
     "outputs": [],
     "prompt_number": 14
    },
    {
     "cell_type": "code",
     "collapsed": false,
     "input": [
      "params.add('alpha', vary=True, value = 1.0, min=-1, max = 10)\n",
      "params.add('beta', vary=True, value = 1.0, min=-1, max = 10)\n",
      "params.add('omega_m', value = 0.25, vary=False)\n",
      "params.add('omega_l', value = 0.75, vary = False, min=0)\n",
      "params.add('int_disp', vary = False, value = 0.2)\n",
      "params.add('scriptm', vary=True, value = 1, min=-70, max = 70)"
     ],
     "language": "python",
     "metadata": {},
     "outputs": [],
     "prompt_number": 15
    },
    {
     "cell_type": "code",
     "collapsed": false,
     "input": [
      "print params"
     ],
     "language": "python",
     "metadata": {},
     "outputs": [
      {
       "output_type": "stream",
       "stream": "stdout",
       "text": [
        "Parameters([('alpha', <Parameter 'alpha', 1.0, bounds=[-1:10]>), ('beta', <Parameter 'beta', 1.0, bounds=[-1:10]>), ('omega_m', <Parameter 'omega_m', value=0.25 (fixed), bounds=[None:None]>), ('omega_l', <Parameter 'omega_l', value=0.75 (fixed), bounds=[0:None]>), ('int_disp', <Parameter 'int_disp', value=0.2 (fixed), bounds=[None:None]>), ('scriptm', <Parameter 'scriptm', 1, bounds=[-70:70]>)])\n"
       ]
      }
     ],
     "prompt_number": 16
    },
    {
     "cell_type": "code",
     "collapsed": false,
     "input": [
      "run lmtest.py"
     ],
     "language": "python",
     "metadata": {},
     "outputs": [
      {
       "output_type": "stream",
       "stream": "stdout",
       "text": [
        "[[Variables]]\n",
        "     amp:       5.085035 +/- 0.078891 (1.55%) initial =  10.000000\n",
        "     decay:     0.262010 +/- 0.008916 (3.40%) initial =  0.100000\n",
        "     omega:     2.025466 +/- 0.016785 (0.83%) initial =  3.000000\n",
        "     shift:    -0.121592 +/- 0.016163 (13.29%) initial =  0.000000\n",
        "[[Correlations]] (unreported correlations are <  0.100)\n",
        "    C(omega, shift)              = -0.725 \n",
        "    C(amp, decay)                =  0.639 \n",
        "    C(amp, shift)                = -0.352 \n",
        "    C(decay, shift)              = -0.236 \n",
        "    C(amp, omega)                =  0.231 \n",
        "    C(decay, omega)              =  0.146 \n"
       ]
      }
     ],
     "prompt_number": 17
    },
    {
     "cell_type": "code",
     "collapsed": false,
     "input": [
      "pwd"
     ],
     "language": "python",
     "metadata": {},
     "outputs": [
      {
       "metadata": {},
       "output_type": "pyout",
       "prompt_number": 18,
       "text": [
        "u'/Users/emma/spycfit'"
       ]
      }
     ],
     "prompt_number": 18
    },
    {
     "cell_type": "code",
     "collapsed": false,
     "input": [
      "cd '/Users/emma/spycfit'"
     ],
     "language": "python",
     "metadata": {},
     "outputs": [
      {
       "output_type": "stream",
       "stream": "stdout",
       "text": [
        "/Users/emma/spycfit\n"
       ]
      }
     ],
     "prompt_number": 19
    },
    {
     "cell_type": "code",
     "collapsed": false,
     "input": [
      "run lmtest.py"
     ],
     "language": "python",
     "metadata": {},
     "outputs": [
      {
       "output_type": "stream",
       "stream": "stdout",
       "text": [
        "[[Variables]]\n",
        "     amp:       4.919830 +/- 0.073604 (1.50%) initial =  10.000000\n",
        "     decay:     0.244082 +/- 0.008036 (3.29%) initial =  0.100000\n",
        "     omega:     1.991765 +/- 0.016005 (0.80%) initial =  3.000000\n",
        "     shift:    -0.086479 +/- 0.016125 (18.65%) initial =  0.000000\n",
        "[[Correlations]] (unreported correlations are <  0.100)\n",
        "    C(omega, shift)              = -0.733 \n",
        "    C(amp, decay)                =  0.632 \n",
        "    C(amp, shift)                = -0.361 \n",
        "    C(amp, omega)                =  0.248 \n",
        "    C(decay, shift)              = -0.242 \n",
        "    C(decay, omega)              =  0.160 \n"
       ]
      }
     ],
     "prompt_number": 20
    },
    {
     "cell_type": "markdown",
     "metadata": {},
     "source": [
      "In this case I think what we need is a minimisation function of the form:"
     ]
    },
    {
     "cell_type": "markdown",
     "metadata": {},
     "source": [
      "func(params, list_of_sn_instances):\n",
      "    \n",
      "    #unpack the data\n",
      "    #do the calculations\n",
      "    \n",
      "    return chisqu2"
     ]
    },
    {
     "cell_type": "code",
     "collapsed": false,
     "input": [
      "def cosmochisqu(params, snlist):\n",
      "    #unpack params here, alpha beta etc\n",
      "    alpha = params['alpha'].value\n",
      "    beta = params['beta'].value\n",
      "    omega_m = params['omega_m'].value\n",
      "    omega_l = params['omega_l'].value\n",
      "    int_dist = params['int_disp'].value\n",
      "    scriptm = params['scriptm'].value\n",
      "    \n",
      "    #unpack parameters as we did earlier\n",
      "    redshift = np.array([s.z for s in snlist])\n",
      "    redshift_err = np.array([s.z_err for s in snlist])\n",
      "    bmag = np.array([s.bmax for s in snlist])\n",
      "    bmag_err = np.array([s.bmax_err for s in snlist])\n",
      "    \n",
      "    try:\n",
      "        snlist[0].type == 'salt2'\n",
      "        lc_width = np.array([s.x1 for s in snlist])\n",
      "        lc_width_err = np.array([s.x1_err for s in snlist])\n",
      "        lc_colour = np.array([s.colour for s in snlist])\n",
      "        lc_colour_err = np.array([s.colour_err for s in snlist])\n",
      "        \n",
      "    except:\n",
      "        snlist[0].type == 'sifto'\n",
      "        lc_width = np.array([s.stretch - 1.0  for s in snlist])\n",
      "        lc_width_err = np.array([s.stretch_err for s in snlist])\n",
      "        lc_colour = np.array([s.colour for s in snlist])\n",
      "        lc_colour_err = np.array([s.colour_err for s in snlist])\n",
      "        \n",
      "    #write this as a separate function in case I want to play with it later\n",
      "    correction, correction_err = corr_two_params(alpha, beta, [lc_width, lc_width_err], [lc_colour, lc_colour_err])\n",
      "    #ok this seems to return no errors to here so I think we're ok\n",
      "    \n",
      "    model = 5.0 * np.log10(script_lumdist(omega_m, omega_l, redshift))\n",
      "    \n",
      "    data = bmag + correction - scriptm\n",
      "    \n",
      "    err = np.sqrt(bmag_err**2 + correctioin_err**2)\n",
      "    \n",
      "    return np.sum((model - data)**2) / np.sum(int_disp**2 +err**2)\n",
      "    "
     ],
     "language": "python",
     "metadata": {},
     "outputs": [],
     "prompt_number": 21
    },
    {
     "cell_type": "code",
     "collapsed": false,
     "input": [
      "def corr_two_params(aa, bb, width, col):\n",
      "    correction = aa*width[0] - bb * col[0]\n",
      "    correction_err = np.sqrt(aa**2 * width[1]**2 + bb**2 * col[1]**2)\n",
      "    return [correction, correction_err]"
     ],
     "language": "python",
     "metadata": {},
     "outputs": [],
     "prompt_number": 22
    },
    {
     "cell_type": "code",
     "collapsed": false,
     "input": [
      "def integralbit(zz, wm, wl):\n",
      "    \n",
      "    return ((1+zz)**2 * (1+wm*zz) - zz*(2+zz)*wl)**-0.5\n",
      "\n",
      "def script_lumdist(wm, wl, zed):\n",
      "    \n",
      "    if np.abs(1.0 - (wm + wl)) <= 0.001:\n",
      "        \n",
      "        print 'Flat universe'\n",
      "        \n",
      "        curve = 1.0\n",
      "        \n",
      "        const = 299792458. * zed/np.sqrt(curve)\n",
      "    \n",
      "        cosmobit = [np.sqrt(curve) * integrate.quad(integralbit, 0, zed, args=(0.2, 0.8,))[0] for zed in test_zed]\n",
      "        return const * cosmobit\n",
      "        \n",
      "    elif wm+wl > 1:\n",
      "        \n",
      "        print 'Positive curvature'\n",
      "        curve = 1.0 - wm - wl\n",
      "        return\n",
      "    else:\n",
      "        \n",
      "        print 'Negative curvature'\n",
      "        curve = 1.0 - wm - wl\n",
      "        return\n",
      "\n",
      "#print script_lumdist(0.2, 0.8, [0.03, 0.5])\n",
      "from scipy import integrate \n",
      "import numpy as np\n",
      "test_zed = np.array([s.z for s in sne])\n",
      "#curve = 1.0\n",
      "#t = [np.sqrt(curve) * integrate.quad(integralbit, 0, zed, args=(0.2, 0.8,))[0] for zed in test_zed]\n",
      "#print 299792458 * test_zed/np.sqrt(curve) * t\n",
      "print 5.0 * np.log10(script_lumdist(0.3, 0.7, test_zed))"
     ],
     "language": "python",
     "metadata": {},
     "outputs": [
      {
       "output_type": "stream",
       "stream": "stdout",
       "text": [
        "Flat universe\n",
        "[ 28.39144674  26.68884253  27.55833876  30.28728152  32.03742704\n",
        "  30.81159127  31.05154467  29.35716244  32.56025373  33.73530712\n",
        "  32.91420685]\n"
       ]
      }
     ],
     "prompt_number": 30
    },
    {
     "cell_type": "code",
     "collapsed": false,
     "input": [
      "cosmochisqu(params, sne)"
     ],
     "language": "python",
     "metadata": {},
     "outputs": [
      {
       "ename": "NameError",
       "evalue": "name 'cosmochisqu' is not defined",
       "output_type": "pyerr",
       "traceback": [
        "\u001b[0;31m---------------------------------------------------------------------------\u001b[0m\n\u001b[0;31mNameError\u001b[0m                                 Traceback (most recent call last)",
        "\u001b[0;32m<ipython-input-3-b4a07ad0f352>\u001b[0m in \u001b[0;36m<module>\u001b[0;34m()\u001b[0m\n\u001b[0;32m----> 1\u001b[0;31m \u001b[0mcosmochisqu\u001b[0m\u001b[0;34m(\u001b[0m\u001b[0mparams\u001b[0m\u001b[0;34m,\u001b[0m \u001b[0msne\u001b[0m\u001b[0;34m)\u001b[0m\u001b[0;34m\u001b[0m\u001b[0m\n\u001b[0m",
        "\u001b[0;31mNameError\u001b[0m: name 'cosmochisqu' is not defined"
       ]
      }
     ],
     "prompt_number": 3
    },
    {
     "cell_type": "code",
     "collapsed": false,
     "input": [],
     "language": "python",
     "metadata": {},
     "outputs": [
      {
       "metadata": {},
       "output_type": "pyout",
       "prompt_number": 74,
       "text": [
        "[0.1, 0.2, 0.3]"
       ]
      }
     ],
     "prompt_number": 74
    },
    {
     "cell_type": "code",
     "collapsed": false,
     "input": [],
     "language": "python",
     "metadata": {},
     "outputs": []
    }
   ],
   "metadata": {}
  }
 ]
}