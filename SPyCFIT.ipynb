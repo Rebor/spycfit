{
 "metadata": {
  "name": ""
 },
 "nbformat": 3,
 "nbformat_minor": 0,
 "worksheets": [
  {
   "cells": [
    {
     "cell_type": "heading",
     "level": 2,
     "metadata": {},
     "source": [
      "SPyCFIT"
     ]
    },
    {
     "cell_type": "markdown",
     "metadata": {},
     "source": [
      "Here is some testing stuff for the SpyCFIT code"
     ]
    },
    {
     "cell_type": "code",
     "collapsed": false,
     "input": [
      "import numpy as np\n",
      "from scipy import integrate\n",
      "import matplotlib.pyplot as plt"
     ],
     "language": "python",
     "metadata": {},
     "outputs": [],
     "prompt_number": 7
    },
    {
     "cell_type": "code",
     "collapsed": false,
     "input": [
      "filename  = '/Users/emma/spycfit/salt2_v1_020114'\n",
      "f = open(filename, 'r')\n",
      "lines = f.readlines()\n",
      "lines = [x for x in lines if not x.startswith('#')]\n",
      "f.close()"
     ],
     "language": "python",
     "metadata": {},
     "outputs": [],
     "prompt_number": 8
    },
    {
     "cell_type": "code",
     "collapsed": false,
     "input": [
      "linebyline = [ll.split() for ll in lines]  #splits up each line into array"
     ],
     "language": "python",
     "metadata": {},
     "outputs": [],
     "prompt_number": 9
    },
    {
     "cell_type": "code",
     "collapsed": false,
     "input": [
      "linebyline[0]  #for example"
     ],
     "language": "python",
     "metadata": {},
     "outputs": [
      {
       "metadata": {},
       "output_type": "pyout",
       "prompt_number": 10,
       "text": [
        "['LSQ11bk',\n",
        " '0.04',\n",
        " '0.001',\n",
        " '2455913.06724',\n",
        " '0.171873754123',\n",
        " '16.8959321231',\n",
        " '0.0200055106518',\n",
        " '0.00314390068225',\n",
        " '5.76698481678e-05',\n",
        " '1.12472441535',\n",
        " '0.0697344692499',\n",
        " '-0.129378995192',\n",
        " '0.0223517574346']"
       ]
      }
     ],
     "prompt_number": 10
    },
    {
     "cell_type": "code",
     "collapsed": false,
     "input": [
      "class Supernova(object):\n",
      "\t\n",
      "\tdef __init__(self, arr,lcfitter):\n",
      "\t\n",
      "\t\tself.name=arr[0]\n",
      "\t\tself.z = float(arr[1])\n",
      "\t\tself.z_err = float(arr[2])\n",
      "\t\tself.maxdate = float(arr[3])\n",
      "\t\tself.maxdate_err = float(arr[4])\n",
      "\t\tself.bmax = float(arr[5])\n",
      "\t\tself.bmax_err = float(arr[6])\n",
      "\t\tself.type = lcfitter\n",
      "\t\t\n",
      "\t\tif self.type == 'salt2':\n",
      "\t\t\n",
      "\t\t\tself.colour = float(arr[11])\n",
      "\t\t\tself.colour_err = float(arr[12])\n",
      "\t\t\tself.x0 = float(arr[7])\n",
      "\t\t\tself.x0_err = float(arr[8])\n",
      "\t\t\tself.x1 = float(arr[9])\n",
      "\t\t\tself.x1_err = float(arr[10])\n",
      "\t\t\t\n",
      "\t\telif self.type == 'sifto':\n",
      "\t\t\n",
      "\t \t\tself.fitter = 'sifto'\n",
      "\t \t\tself.colour = float('nan')\n",
      "\t \t\tself.colour_err = float('nan')\n",
      "\t \t\tself.stretch = float('nan')\n",
      "\t \t\tself.stretch_err = float('nan')\n",
      "\t\t\t\n",
      "\t\telse:\n",
      "\t\t\t\n",
      "\t\t\traise\n",
      "\t\t\n",
      "\t\n",
      "\t\t\n",
      "\tdef integrand(self, omega_m, omega_l):\n",
      "\t\n",
      "\t\treturn  1.0/(np.sqrt((1.+self.z)**2 * (1+ omega_m) - self.z*(2.+self.z)*omega_l))\n",
      "\t\t\n",
      "\t\n",
      "\t__doc__ = \"Supernova Class\"\n"
     ],
     "language": "python",
     "metadata": {},
     "outputs": [],
     "prompt_number": 11
    },
    {
     "cell_type": "code",
     "collapsed": false,
     "input": [
      "sne = [Supernova(lll, 'salt2') for lll in linebyline]"
     ],
     "language": "python",
     "metadata": {},
     "outputs": [],
     "prompt_number": 12
    },
    {
     "cell_type": "code",
     "collapsed": false,
     "input": [
      "sne "
     ],
     "language": "python",
     "metadata": {},
     "outputs": [
      {
       "metadata": {},
       "output_type": "pyout",
       "prompt_number": 13,
       "text": [
        "[<__main__.Supernova at 0x1088944d0>,\n",
        " <__main__.Supernova at 0x108894550>,\n",
        " <__main__.Supernova at 0x1088940d0>,\n",
        " <__main__.Supernova at 0x108894490>,\n",
        " <__main__.Supernova at 0x108894590>,\n",
        " <__main__.Supernova at 0x108894650>,\n",
        " <__main__.Supernova at 0x108894690>,\n",
        " <__main__.Supernova at 0x1088946d0>,\n",
        " <__main__.Supernova at 0x108894710>,\n",
        " <__main__.Supernova at 0x108894750>,\n",
        " <__main__.Supernova at 0x108894790>,\n",
        " <__main__.Supernova at 0x1088945d0>,\n",
        " <__main__.Supernova at 0x108894610>,\n",
        " <__main__.Supernova at 0x1088947d0>,\n",
        " <__main__.Supernova at 0x108894890>,\n",
        " <__main__.Supernova at 0x1088948d0>,\n",
        " <__main__.Supernova at 0x108894910>,\n",
        " <__main__.Supernova at 0x108894950>,\n",
        " <__main__.Supernova at 0x108894990>,\n",
        " <__main__.Supernova at 0x1088949d0>,\n",
        " <__main__.Supernova at 0x108894810>,\n",
        " <__main__.Supernova at 0x108894850>,\n",
        " <__main__.Supernova at 0x108894a10>,\n",
        " <__main__.Supernova at 0x108894ad0>,\n",
        " <__main__.Supernova at 0x108894b10>]"
       ]
      }
     ],
     "prompt_number": 13
    },
    {
     "cell_type": "markdown",
     "metadata": {},
     "source": [
      "We have made a list of instances of the class Supernova.  So we can then call things in a variety of ways"
     ]
    },
    {
     "cell_type": "code",
     "collapsed": false,
     "input": [
      "sne[0].name"
     ],
     "language": "python",
     "metadata": {},
     "outputs": [
      {
       "metadata": {},
       "output_type": "pyout",
       "prompt_number": 14,
       "text": [
        "'LSQ11bk'"
       ]
      }
     ],
     "prompt_number": 14
    },
    {
     "cell_type": "code",
     "collapsed": false,
     "input": [
      "sne[2].z"
     ],
     "language": "python",
     "metadata": {},
     "outputs": [
      {
       "metadata": {},
       "output_type": "pyout",
       "prompt_number": 15,
       "text": [
        "0.033"
       ]
      }
     ],
     "prompt_number": 15
    },
    {
     "cell_type": "code",
     "collapsed": false,
     "input": [
      "import numpy as np\n",
      "[(s.name,s.integrand(0.25,0.75)) for s in sne]"
     ],
     "language": "python",
     "metadata": {},
     "outputs": [
      {
       "metadata": {},
       "output_type": "pyout",
       "prompt_number": 16,
       "text": [
        "[('LSQ11bk', 0.88017802520754762),\n",
        " ('LSQ11ot', 0.88479483521364954),\n",
        " ('LSQ11pn', 0.88266221346422424),\n",
        " ('LSQ12agq', 0.87239909782520098),\n",
        " ('LSQ12aor', 0.86151708883903022),\n",
        " ('LSQ12bld', 0.8695816557632331),\n",
        " ('LSQ12blp', 0.86817528018288859),\n",
        " ('LSQ12btn', 0.87663666063783552),\n",
        " ('LSQ12ca', 0.8573314033015248),\n",
        " ('LSQ12cda', 0.84590321062969032),\n",
        " ('LSQ12cdl', 0.85420241897452931),\n",
        " ('LSQ12fuk', 0.88728664707617033),\n",
        " ('LSQ12fvl', 0.87451619842352857),\n",
        " ('LSQ12fxd', 0.88337275171593277),\n",
        " ('LSQ12gdj', 0.88372814729557236),\n",
        " ('LSQ12gef', 0.87134183166605583),\n",
        " ('LSQ12gln', 0.8576796174773692),\n",
        " ('LSQ12gpw', 0.86993349593052938),\n",
        " ('LSQ12gxj', 0.88195201497975617),\n",
        " ('LSQ12gyc', 0.85907355917511541),\n",
        " ('LSQ12gzm', 0.85907355917511541),\n",
        " ('LSQ12hjm', 0.8695816557632331),\n",
        " ('LSQ12hno', 0.87663666063783552),\n",
        " ('LSQ12hxx', 0.86993349593052938),\n",
        " ('LSQ12hzs', 0.86887827029160003)]"
       ]
      }
     ],
     "prompt_number": 16
    },
    {
     "cell_type": "markdown",
     "metadata": {},
     "source": [
      "Now make a parameter file for the minimisation.  This will have to read in from argsparse in the main code"
     ]
    },
    {
     "cell_type": "code",
     "collapsed": false,
     "input": [
      "from lmfit import minimize, Parameters, report_fit"
     ],
     "language": "python",
     "metadata": {},
     "outputs": [],
     "prompt_number": 17
    },
    {
     "cell_type": "code",
     "collapsed": false,
     "input": [
      "params = Parameters()"
     ],
     "language": "python",
     "metadata": {},
     "outputs": [],
     "prompt_number": 18
    },
    {
     "cell_type": "code",
     "collapsed": false,
     "input": [
      "params.add('alpha', vary=True, value = 1.0, min=-1, max = 10)\n",
      "params.add('beta', vary=True, value = 1.0, min=-1, max = 10)\n",
      "params.add('omega_m', value = 0.23, vary=False)\n",
      "params.add('omega_l', value = 0.77, vary = False, min=0)\n",
      "params.add('int_disp', vary = True, value = 0.17, min=0.01, max = 0.5)\n",
      "params.add('scriptm', vary=True, value = 1, min=-20, max = -18)"
     ],
     "language": "python",
     "metadata": {},
     "outputs": [],
     "prompt_number": 19
    },
    {
     "cell_type": "code",
     "collapsed": false,
     "input": [
      "print params"
     ],
     "language": "python",
     "metadata": {},
     "outputs": [
      {
       "output_type": "stream",
       "stream": "stdout",
       "text": [
        "Parameters([('alpha', <Parameter 'alpha', 1.0, bounds=[-1:10]>), ('beta', <Parameter 'beta', 1.0, bounds=[-1:10]>), ('omega_m', <Parameter 'omega_m', value=0.23 (fixed), bounds=[None:None]>), ('omega_l', <Parameter 'omega_l', value=0.77 (fixed), bounds=[0:None]>), ('int_disp', <Parameter 'int_disp', 0.17, bounds=[0.01:0.5]>), ('scriptm', <Parameter 'scriptm', -18, bounds=[-20:-18]>)])\n"
       ]
      }
     ],
     "prompt_number": 20
    },
    {
     "cell_type": "code",
     "collapsed": false,
     "input": [
      "pwd"
     ],
     "language": "python",
     "metadata": {},
     "outputs": [
      {
       "metadata": {},
       "output_type": "pyout",
       "prompt_number": 21,
       "text": [
        "u'/Users/emma/spycfit'"
       ]
      }
     ],
     "prompt_number": 21
    },
    {
     "cell_type": "code",
     "collapsed": false,
     "input": [
      "cd '/Users/emma/spycfit'"
     ],
     "language": "python",
     "metadata": {},
     "outputs": [
      {
       "output_type": "stream",
       "stream": "stdout",
       "text": [
        "/Users/emma/spycfit\n"
       ]
      }
     ],
     "prompt_number": 22
    },
    {
     "cell_type": "code",
     "collapsed": false,
     "input": [
      "#run lmtest.py"
     ],
     "language": "python",
     "metadata": {},
     "outputs": [],
     "prompt_number": 23
    },
    {
     "cell_type": "markdown",
     "metadata": {},
     "source": [
      "In this case I think what we need is a minimisation function of the form:"
     ]
    },
    {
     "cell_type": "markdown",
     "metadata": {},
     "source": [
      "func(params, list_of_sn_instances):\n",
      "    \n",
      "    #unpack the data\n",
      "    #do the calculations\n",
      "    \n",
      "    return chisqu2\n",
      "    \n"
     ]
    },
    {
     "cell_type": "markdown",
     "metadata": {},
     "source": [
      "Note that if you use lmfit with a least-squares option it will not run properly if you just give it a list of sn instances.  This is because it uses the number of args to test if there is enough data to do a proper fit and it thinks args = 1 if you just give it sne.\n",
      "\n",
      "This is very annoying, but unpacking all the data and parsing it to the function is just messy and I don't see why I need to do this."
     ]
    },
    {
     "cell_type": "code",
     "collapsed": false,
     "input": [
      "#unpack parameters outside so we can use Least-Square fitting.\n",
      "#This is annoying.  Everything was much prettier before\n",
      "\n",
      "redshift = np.array([s.z for s in sne])\n",
      "redshift_err = np.array([s.z_err for s in sne])\n",
      "bmag = np.array([s.bmax for s in sne])\n",
      "bmag_err = np.array([s.bmax_err for s in sne])\n",
      "  \n",
      "try:\n",
      "    sne[0].type == 'salt2'\n",
      "    lc_width = np.array([s.x1 for s in sne])\n",
      "    lc_width_err = np.array([s.x1_err for s in sne])\n",
      "    lc_colour = np.array([s.colour for s in sne])\n",
      "    lc_colour_err = np.array([s.colour_err for s in sne])\n",
      "        \n",
      "except:\n",
      "    sne[0].type == 'sifto'\n",
      "    lc_width = np.array([s.stretch - 1.0  for s in sne])\n",
      "    lc_width_err = np.array([s.stretch_err for s in sne])\n",
      "    lc_colour = np.array([s.colour for s in sne])\n",
      "    lc_colour_err = np.array([s.colour_err for s in sne])\n",
      "\n",
      "def cosmochisqu(params, redshift, redshift_err, bmag, bmag_err, lc_width, lc_width_err, lc_colour, lc_colour_err):\n",
      "    #unpack params here, alpha beta etc\n",
      "    alpha = params['alpha'].value\n",
      "    beta = params['beta'].value\n",
      "    omega_m = params['omega_m'].value\n",
      "    omega_l = params['omega_l'].value\n",
      "    int_disp = params['int_disp'].value\n",
      "    scriptm = params['scriptm'].value\n",
      "    \n",
      "  \n",
      "    #write this as a separate function in case I want to play with it later\n",
      "    correction, correction_err = corr_two_params(alpha, beta, [lc_width, lc_width_err], [lc_colour, lc_colour_err])\n",
      "    #ok this seems to return no errors to here so I think we're ok\n",
      "    \n",
      "    model = 5.0 * np.log10(script_lumdist(omega_m, omega_l, redshift))\n",
      "    \n",
      "    data = bmag + correction - scriptm\n",
      "    \n",
      "    err = np.sqrt(bmag_err**2 + correction_err**2)\n",
      "    \n",
      "    print (np.sum((model - data)**2) / np.sum(int_disp**2 +err**2))/len(data)\n",
      "    \n",
      "    return (np.sum((model - data)**2) / np.sum(int_disp**2 +err**2))/len(data)\n",
      "    "
     ],
     "language": "python",
     "metadata": {},
     "outputs": [],
     "prompt_number": 24
    },
    {
     "cell_type": "code",
     "collapsed": false,
     "input": [
      "def corr_two_params(aa, bb, width, col):\n",
      "    correction = aa*width[0] - bb * col[0]\n",
      "    correction_err = np.sqrt(aa**2 * width[1]**2 + bb**2 * col[1]**2)\n",
      "    return [correction, correction_err]"
     ],
     "language": "python",
     "metadata": {},
     "outputs": [],
     "prompt_number": 25
    },
    {
     "cell_type": "code",
     "collapsed": false,
     "input": [
      "zed = np.array([0.2, 0.25])\n",
      "curve = 1\n",
      "cosmobit = [np.sqrt(curve) * integrate.quad(integralbit, 0, z, args=(0.25, 0.75,))[0] for z in zed]"
     ],
     "language": "python",
     "metadata": {},
     "outputs": [],
     "prompt_number": 26
    },
    {
     "cell_type": "code",
     "collapsed": false,
     "input": [
      "cosmochisqu(params, redshift, redshift_err, bmag, bmag_err, lc_width, lc_width_err, lc_colour, lc_colour_err)"
     ],
     "language": "python",
     "metadata": {},
     "outputs": [
      {
       "output_type": "stream",
       "stream": "stdout",
       "text": [
        "[ 0.04   0.027  0.033  0.062  0.093  0.07   0.074  0.05   0.105  0.138\n",
        "  0.114  0.02   0.056  0.031  0.03   0.065  0.104  0.069  0.035  0.1    0.1\n",
        "  0.07   0.05   0.069  0.072]\n",
        "[  3.11784156e+08   3.07886854e+08   3.09685609e+08   3.18379590e+08\n",
        "   3.27673157e+08   3.20777930e+08   3.21977100e+08   3.14782081e+08\n",
        "   3.31270666e+08   3.41163817e+08   3.33968798e+08   3.05788307e+08\n",
        "   3.16580836e+08   3.09086024e+08   3.08786232e+08   3.19278968e+08\n",
        "   3.30970874e+08   3.20478138e+08   3.10285194e+08   3.29771704e+08\n",
        "   3.29771704e+08   3.20777930e+08   3.14782081e+08   3.20478138e+08\n",
        "   3.21377515e+08]\n",
        "[0.039720539026157312, 0.026873174005048673, 0.032810195165701342, 0.061324209459745815, 0.091466085898875893, 0.069136570354415131, 0.073033970922291885, 0.049562034908753799, 0.10303830361447351, 0.13458214745607405, 0.1116820381119237, 0.019930561708762794, 0.055449643535987664, 0.030832606943372313, 0.029843280309849854, 0.064256582344360144, 0.10207600971157554, 0.068161304049035962, 0.034786361292681006, 0.098223087357951253, 0.098223087357951253, 0.069136570354415131, 0.049562034908753799, 0.068161304049035962, 0.0710860041106334]\n",
        "0.640439757732\n"
       ]
      },
      {
       "metadata": {},
       "output_type": "pyout",
       "prompt_number": 27,
       "text": [
        "0.6404397577315174"
       ]
      }
     ],
     "prompt_number": 27
    },
    {
     "cell_type": "code",
     "collapsed": false,
     "input": [
      "result = minimize (cosmochisqu, params, args=(redshift, redshift_err, bmag, bmag_err, lc_width, lc_width_err, lc_colour, lc_colour_err,))"
     ],
     "language": "python",
     "metadata": {},
     "outputs": [
      {
       "ename": "TypeError",
       "evalue": "Improper input: N=4 must not exceed M=1",
       "output_type": "pyerr",
       "traceback": [
        "\u001b[0;31m---------------------------------------------------------------------------\u001b[0m\n\u001b[0;31mTypeError\u001b[0m                                 Traceback (most recent call last)",
        "\u001b[0;32m<ipython-input-28-c0ff99cd55ce>\u001b[0m in \u001b[0;36m<module>\u001b[0;34m()\u001b[0m\n\u001b[0;32m----> 1\u001b[0;31m \u001b[0mresult\u001b[0m \u001b[0;34m=\u001b[0m \u001b[0mminimize\u001b[0m \u001b[0;34m(\u001b[0m\u001b[0mcosmochisqu\u001b[0m\u001b[0;34m,\u001b[0m \u001b[0mparams\u001b[0m\u001b[0;34m,\u001b[0m \u001b[0margs\u001b[0m\u001b[0;34m=\u001b[0m\u001b[0;34m(\u001b[0m\u001b[0mredshift\u001b[0m\u001b[0;34m,\u001b[0m \u001b[0mredshift_err\u001b[0m\u001b[0;34m,\u001b[0m \u001b[0mbmag\u001b[0m\u001b[0;34m,\u001b[0m \u001b[0mbmag_err\u001b[0m\u001b[0;34m,\u001b[0m \u001b[0mlc_width\u001b[0m\u001b[0;34m,\u001b[0m \u001b[0mlc_width_err\u001b[0m\u001b[0;34m,\u001b[0m \u001b[0mlc_colour\u001b[0m\u001b[0;34m,\u001b[0m \u001b[0mlc_colour_err\u001b[0m\u001b[0;34m,\u001b[0m\u001b[0;34m)\u001b[0m\u001b[0;34m)\u001b[0m\u001b[0;34m\u001b[0m\u001b[0m\n\u001b[0m",
        "\u001b[0;32m/Library/Python/2.7/site-packages/lmfit/minimizer.pyc\u001b[0m in \u001b[0;36mminimize\u001b[0;34m(fcn, params, method, args, kws, scale_covar, engine, iter_cb, **fit_kws)\u001b[0m\n\u001b[1;32m    513\u001b[0m                     \u001b[0mfitfunction\u001b[0m \u001b[0;34m=\u001b[0m \u001b[0mgetattr\u001b[0m\u001b[0;34m(\u001b[0m\u001b[0mfitter\u001b[0m\u001b[0;34m,\u001b[0m \u001b[0mmethod\u001b[0m\u001b[0;34m)\u001b[0m\u001b[0;34m\u001b[0m\u001b[0m\n\u001b[1;32m    514\u001b[0m     \u001b[0;32mif\u001b[0m \u001b[0mfitfunction\u001b[0m \u001b[0;32mis\u001b[0m \u001b[0;32mnot\u001b[0m \u001b[0mNone\u001b[0m\u001b[0;34m:\u001b[0m\u001b[0;34m\u001b[0m\u001b[0m\n\u001b[0;32m--> 515\u001b[0;31m         \u001b[0mfitfunction\u001b[0m\u001b[0;34m(\u001b[0m\u001b[0;34m**\u001b[0m\u001b[0mkwargs\u001b[0m\u001b[0;34m)\u001b[0m\u001b[0;34m\u001b[0m\u001b[0m\n\u001b[0m\u001b[1;32m    516\u001b[0m     \u001b[0;32mreturn\u001b[0m \u001b[0mfitter\u001b[0m\u001b[0;34m\u001b[0m\u001b[0m\n\u001b[1;32m    517\u001b[0m \u001b[0;34m\u001b[0m\u001b[0m\n",
        "\u001b[0;32m/Library/Python/2.7/site-packages/lmfit/minimizer.pyc\u001b[0m in \u001b[0;36mleastsq\u001b[0;34m(self, **kws)\u001b[0m\n\u001b[1;32m    385\u001b[0m             \u001b[0mlskws\u001b[0m\u001b[0;34m[\u001b[0m\u001b[0;34m'Dfun'\u001b[0m\u001b[0;34m]\u001b[0m \u001b[0;34m=\u001b[0m \u001b[0mself\u001b[0m\u001b[0;34m.\u001b[0m\u001b[0m__jacobian\u001b[0m\u001b[0;34m\u001b[0m\u001b[0m\n\u001b[1;32m    386\u001b[0m \u001b[0;34m\u001b[0m\u001b[0m\n\u001b[0;32m--> 387\u001b[0;31m         \u001b[0mlsout\u001b[0m \u001b[0;34m=\u001b[0m \u001b[0mscipy_leastsq\u001b[0m\u001b[0;34m(\u001b[0m\u001b[0mself\u001b[0m\u001b[0;34m.\u001b[0m\u001b[0m__residual\u001b[0m\u001b[0;34m,\u001b[0m \u001b[0mself\u001b[0m\u001b[0;34m.\u001b[0m\u001b[0mvars\u001b[0m\u001b[0;34m,\u001b[0m \u001b[0;34m**\u001b[0m\u001b[0mlskws\u001b[0m\u001b[0;34m)\u001b[0m\u001b[0;34m\u001b[0m\u001b[0m\n\u001b[0m\u001b[1;32m    388\u001b[0m         \u001b[0m_best\u001b[0m\u001b[0;34m,\u001b[0m \u001b[0m_cov\u001b[0m\u001b[0;34m,\u001b[0m \u001b[0minfodict\u001b[0m\u001b[0;34m,\u001b[0m \u001b[0merrmsg\u001b[0m\u001b[0;34m,\u001b[0m \u001b[0mier\u001b[0m \u001b[0;34m=\u001b[0m \u001b[0mlsout\u001b[0m\u001b[0;34m\u001b[0m\u001b[0m\n\u001b[1;32m    389\u001b[0m \u001b[0;34m\u001b[0m\u001b[0m\n",
        "\u001b[0;32m/Library/Python/2.7/site-packages/scipy/optimize/minpack.pyc\u001b[0m in \u001b[0;36mleastsq\u001b[0;34m(func, x0, args, Dfun, full_output, col_deriv, ftol, xtol, gtol, maxfev, epsfcn, factor, diag)\u001b[0m\n\u001b[1;32m    348\u001b[0m     \u001b[0mm\u001b[0m \u001b[0;34m=\u001b[0m \u001b[0m_check_func\u001b[0m\u001b[0;34m(\u001b[0m\u001b[0;34m'leastsq'\u001b[0m\u001b[0;34m,\u001b[0m \u001b[0;34m'func'\u001b[0m\u001b[0;34m,\u001b[0m \u001b[0mfunc\u001b[0m\u001b[0;34m,\u001b[0m \u001b[0mx0\u001b[0m\u001b[0;34m,\u001b[0m \u001b[0margs\u001b[0m\u001b[0;34m,\u001b[0m \u001b[0mn\u001b[0m\u001b[0;34m)\u001b[0m\u001b[0;34m[\u001b[0m\u001b[0;36m0\u001b[0m\u001b[0;34m]\u001b[0m\u001b[0;34m\u001b[0m\u001b[0m\n\u001b[1;32m    349\u001b[0m     \u001b[0;32mif\u001b[0m \u001b[0mn\u001b[0m \u001b[0;34m>\u001b[0m \u001b[0mm\u001b[0m\u001b[0;34m:\u001b[0m\u001b[0;34m\u001b[0m\u001b[0m\n\u001b[0;32m--> 350\u001b[0;31m         \u001b[0;32mraise\u001b[0m \u001b[0mTypeError\u001b[0m\u001b[0;34m(\u001b[0m\u001b[0;34m'Improper input: N=%s must not exceed M=%s'\u001b[0m \u001b[0;34m%\u001b[0m \u001b[0;34m(\u001b[0m\u001b[0mn\u001b[0m\u001b[0;34m,\u001b[0m\u001b[0mm\u001b[0m\u001b[0;34m)\u001b[0m\u001b[0;34m)\u001b[0m\u001b[0;34m\u001b[0m\u001b[0m\n\u001b[0m\u001b[1;32m    351\u001b[0m     \u001b[0;32mif\u001b[0m \u001b[0mDfun\u001b[0m \u001b[0;32mis\u001b[0m \u001b[0mNone\u001b[0m\u001b[0;34m:\u001b[0m\u001b[0;34m\u001b[0m\u001b[0m\n\u001b[1;32m    352\u001b[0m         \u001b[0;32mif\u001b[0m \u001b[0;34m(\u001b[0m\u001b[0mmaxfev\u001b[0m \u001b[0;34m==\u001b[0m \u001b[0;36m0\u001b[0m\u001b[0;34m)\u001b[0m\u001b[0;34m:\u001b[0m\u001b[0;34m\u001b[0m\u001b[0m\n",
        "\u001b[0;31mTypeError\u001b[0m: Improper input: N=4 must not exceed M=1"
       ]
      },
      {
       "output_type": "stream",
       "stream": "stdout",
       "text": [
        "[ 0.04   0.027  0.033  0.062  0.093  0.07   0.074  0.05   0.105  0.138\n",
        "  0.114  0.02   0.056  0.031  0.03   0.065  0.104  0.069  0.035  0.1    0.1\n",
        "  0.07   0.05   0.069  0.072]\n",
        "[  3.11784156e+08   3.07886854e+08   3.09685609e+08   3.18379590e+08\n",
        "   3.27673157e+08   3.20777930e+08   3.21977100e+08   3.14782081e+08\n",
        "   3.31270666e+08   3.41163817e+08   3.33968798e+08   3.05788307e+08\n",
        "   3.16580836e+08   3.09086024e+08   3.08786232e+08   3.19278968e+08\n",
        "   3.30970874e+08   3.20478138e+08   3.10285194e+08   3.29771704e+08\n",
        "   3.29771704e+08   3.20777930e+08   3.14782081e+08   3.20478138e+08\n",
        "   3.21377515e+08]\n",
        "[0.039720539026157312, 0.026873174005048673, 0.032810195165701342, 0.061324209459745815, 0.091466085898875893, 0.069136570354415131, 0.073033970922291885, 0.049562034908753799, 0.10303830361447351, 0.13458214745607405, 0.1116820381119237, 0.019930561708762794, 0.055449643535987664, 0.030832606943372313, 0.029843280309849854, 0.064256582344360144, 0.10207600971157554, 0.068161304049035962, 0.034786361292681006, 0.098223087357951253, 0.098223087357951253, 0.069136570354415131, 0.049562034908753799, 0.068161304049035962, 0.0710860041106334]\n",
        "0.640439757732\n"
       ]
      }
     ],
     "prompt_number": 28
    },
    {
     "cell_type": "code",
     "collapsed": false,
     "input": [
      "from lmfit import report_errors"
     ],
     "language": "python",
     "metadata": {},
     "outputs": []
    },
    {
     "cell_type": "code",
     "collapsed": false,
     "input": [
      "cosmochisqu(params, sne)\n",
      "report_errors(params)"
     ],
     "language": "python",
     "metadata": {},
     "outputs": []
    },
    {
     "cell_type": "code",
     "collapsed": false,
     "input": [
      "import numpy as np\n",
      "from scipy import integrate\n",
      "def integralbit(zz, wm, wl):\n",
      "    \n",
      "    return ((1+zz)**2 * (1+wm*zz) - zz*(2+zz)*wl)**-0.5\n",
      "\n",
      "def script_lumdist(wm, wl, zed):\n",
      "    \n",
      "    if np.abs(1.0 - (wm + wl)) <= 0.001:\n",
      "        \n",
      "        #print 'Flat universe'\n",
      "        \n",
      "        curve = 1.0\n",
      "        \n",
      "        const = 299792458. * (1+zed)/np.sqrt(np.abs(curve))\n",
      "    \n",
      "        cosmobit = [np.sqrt(curve) * integrate.quad(integralbit, 0, zz, args=(wm, wl,))[0] for zz in zed]\n",
      "        \n",
      "        print zed\n",
      "        print const\n",
      "        print cosmobit\n",
      "        \n",
      "        return const * cosmobit\n",
      "        \n",
      "    elif wm+wl > 1.:\n",
      "        \n",
      "        print 'Positive curvature'\n",
      "        curve = 1.0 - wm - wl\n",
      "        const = 299792458. * (1+zed)/np.sqrt(np.abs(curve))\n",
      "\t\t\n",
      "        cosmobit = np.sin([np.sqrt(np.abs(curve)) * integrate.quad(integralbit, 0, zz, args=(wm,wl,))[0] for zz in zed])\n",
      "        return const*cosmobit\n",
      "    else:\n",
      "        \n",
      "        print 'Negative curvature'\n",
      "        curve = 1.0 - wm - wl\n",
      "        const = 299792458. * (1+zed)/np.sqrt(np.abs(curve))\n",
      "        cosmobit = np.sinh([np.sqrt(np.abs(curve)) * integrate.quad(integralbit, 0, zz, args=(wm,wl,))[0] for zz in zed])\n",
      "        return const* cosmobit\n",
      "\t\t\n",
      "\n",
      "zz_test = np.array([0.04, 0.12, 0.79])\n",
      "print script_lumdist(0.25, 0.75, zz_test)\n",
      "print script_lumdist(0.2, 0.4, zz_test)\n",
      "print script_lumdist(0.5, 0.7, zz_test)"
     ],
     "language": "python",
     "metadata": {},
     "outputs": []
    },
    {
     "cell_type": "code",
     "collapsed": false,
     "input": [
      "#now let's plot this and see how awful it looks\n",
      "test_z = np.arange(0.001, 0.15, 0.001)\n",
      "model = 5.0 * np.log10(script_lumdist(params['omega_m'].value, params['omega_l'].value, test_z))\n",
      "data = np.array([s.bmax for s in sne]) + 0.299 * np.array([s.x1 for s in sne]) - 2.177 * np.array([s.colour for s in sne]) + 12.047\n",
      "\n",
      "january = np.array([s.bmax for s in sne]) + 0.1 * np.array([s.x1 for s in sne]) - 2.7 * np.array([s.colour for s in sne]) + (-19.08  -5.0 * np.log10(70.) + 25)\n",
      "\n",
      "import matplotlib.pyplot as plt\n",
      "%matplotlib inline\n",
      "plt.plot(test_z, model, 'k-', label='Best fit')\n",
      "plt.plot(np.array([s.z for s in sne]), data, 'bo', label = 'Data')\n",
      "plt.plot(np.array([s.z for s in sne]), january, 'ro', label = 'Jan')\n",
      "plt.legend()"
     ],
     "language": "python",
     "metadata": {},
     "outputs": []
    },
    {
     "cell_type": "code",
     "collapsed": false,
     "input": [
      "\n",
      "test_z"
     ],
     "language": "python",
     "metadata": {},
     "outputs": []
    },
    {
     "cell_type": "code",
     "collapsed": false,
     "input": [
      "np.log10(10)"
     ],
     "language": "python",
     "metadata": {},
     "outputs": []
    },
    {
     "cell_type": "code",
     "collapsed": false,
     "input": [],
     "language": "python",
     "metadata": {},
     "outputs": []
    }
   ],
   "metadata": {}
  }
 ]
}